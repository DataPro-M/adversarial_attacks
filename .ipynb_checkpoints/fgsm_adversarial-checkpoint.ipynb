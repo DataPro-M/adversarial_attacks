{
 "cells": [
  {
   "cell_type": "markdown",
   "metadata": {},
   "source": [
    "# The Fast Gradient Sign Method (FGSM)"
   ]
  },
  {
   "cell_type": "markdown",
   "metadata": {},
   "source": [
    "* Taking an input image\n",
    "* Making predictions on the image using a trained CNN\n",
    "* Computing the loss of the prediction based on the true class label\n",
    "* Calculating the gradients of the loss with respect to the input image\n",
    "* Computing the sign of the gradient\n",
    "* Using the signed gradient to construct the output adversarial image"
   ]
  },
  {
   "cell_type": "markdown",
   "metadata": {},
   "source": [
    "### How does the Fast Gradient Sign Method work?\n",
    "* Essentially, FGSM computes the gradients of a loss function (e.g., mean-squared error or categorical cross-entropy) with respect to the input image and then uses the sign of the gradients to create a new image (i.e., the adversarial image) that maximizes the loss\n",
    "![alt text](pyimagesearch/fgsm_equation.png \"Title\")\n",
    "where:\n",
    "\n",
    "* adv_x: Our output adversarial image\n",
    "* x: The original input image\n",
    "* y: The ground-truth label of the input image\n",
    "* epsilon: Small value we multiply the signed gradients by to ensure the perturbations are small enough that the human eye cannot detect them but large enough that they fool the neural network\n",
    "* theta: Our neural network model\n",
    "* J: The loss function"
   ]
  },
  {
   "cell_type": "code",
   "execution_count": null,
   "metadata": {},
   "outputs": [],
   "source": []
  }
 ],
 "metadata": {
  "kernelspec": {
   "display_name": "Python (p36)",
   "language": "python",
   "name": "p36"
  },
  "language_info": {
   "codemirror_mode": {
    "name": "ipython",
    "version": 3
   },
   "file_extension": ".py",
   "mimetype": "text/x-python",
   "name": "python",
   "nbconvert_exporter": "python",
   "pygments_lexer": "ipython3",
   "version": "3.6.13"
  }
 },
 "nbformat": 4,
 "nbformat_minor": 4
}
