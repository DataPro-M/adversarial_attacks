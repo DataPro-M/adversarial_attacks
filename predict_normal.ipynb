{
 "cells": [
  {
   "cell_type": "markdown",
   "metadata": {},
   "source": [
    "# image classification results\n",
    "### Import our required Python packages on Lines 2-9. \n"
   ]
  },
  {
   "cell_type": "code",
   "execution_count": 1,
   "metadata": {},
   "outputs": [],
   "source": [
    "# import necessary packages\n",
    "from pyimagesearch.utils import get_class_idx\n",
    "from tensorflow.keras.applications import ResNet50\n",
    "from tensorflow.keras.applications.resnet50 import decode_predictions\n",
    "from tensorflow.keras.applications.resnet50 import preprocess_input\n",
    "import numpy as np\n",
    "import argparse\n",
    "import imutils\n",
    "import cv2"
   ]
  },
  {
   "cell_type": "markdown",
   "metadata": {},
   "source": [
    "### preprocess_image"
   ]
  },
  {
   "cell_type": "code",
   "execution_count": 2,
   "metadata": {},
   "outputs": [],
   "source": [
    "def preprocess_image(image):\n",
    "\t# swap color channels, preprocess the image, and add in a batch\n",
    "\t# dimension\n",
    "\timage = cv2.cvtColor(image, cv2.COLOR_BGR2RGB)\n",
    "\timage = preprocess_input(image)\n",
    "\timage = cv2.resize(image, (224, 224))\n",
    "\timage = np.expand_dims(image, axis=0)\n",
    "\t# return the preprocessed image\n",
    "\treturn image"
   ]
  },
  {
   "cell_type": "markdown",
   "metadata": {},
   "source": [
    "### let’s parse our command line arguments:"
   ]
  },
  {
   "cell_type": "code",
   "execution_count": 3,
   "metadata": {},
   "outputs": [
    {
     "name": "stdout",
     "output_type": "stream",
     "text": [
      "[INFO] loading image...\n",
      "[INFO] loading finished size is (1, 224, 224, 3)\n"
     ]
    }
   ],
   "source": [
    "# construct the argument parser and parse the arguments\n",
    "image_path = 'pyimagesearch/pig.jpg'\n",
    "# load image from disk and make a clone for annotation\n",
    "print(\"[INFO] loading image...\")\n",
    "image = cv2.imread(image_path)\n",
    "output = image.copy()\n",
    "# preprocess the input image\n",
    "output = imutils.resize(output, width=400)\n",
    "preprocessedImage = preprocess_image(image)\n",
    "print(\"[INFO] loading finished size is {}\".format(preprocessedImage.shape))"
   ]
  },
  {
   "cell_type": "markdown",
   "metadata": {},
   "source": [
    "#### With our image preprocessed, we can load ResNet and classify the image"
   ]
  },
  {
   "cell_type": "code",
   "execution_count": null,
   "metadata": {},
   "outputs": [
    {
     "name": "stdout",
     "output_type": "stream",
     "text": [
      "[INFO] loading pre-trained ResNet50 model...\n"
     ]
    }
   ],
   "source": [
    "# load the pre-trained ResNet50 model\n",
    "print(\"[INFO] loading pre-trained ResNet50 model...\")\n",
    "model = ResNet50(weights=\"imagenet\")\n",
    "# make predictions on the input image and parse the top-3 predictions\n",
    "print(\"[INFO] making predictions...\")\n",
    "predictions = model.predict(preprocessedImage)\n",
    "predictions = decode_predictions(predictions, top=3)[0]\n",
    "#print(\"[INFO] making predictions {}\".format(predictions))\n"
   ]
  },
  {
   "cell_type": "code",
   "execution_count": null,
   "metadata": {},
   "outputs": [],
   "source": [
    "# loop over the top three predictions\n",
    "for (i, (imagenetID, label, prob)) in enumerate(predictions):\n",
    "\t# print the ImageNet class label ID of the top prediction to our\n",
    "\t# terminal (we'll need this label for our next script which will\n",
    "\t# perform the actual adversarial attack)\n",
    "\tif i == 0:\n",
    "\t\tprint(\"[INFO] {} => {}\".format(label, get_class_idx(label)))\n",
    "\t# display the prediction to our screen\n",
    "\tprint(\"[INFO] {}. {}: {:.2f}%\".format(i + 1, label, prob * 100))"
   ]
  },
  {
   "cell_type": "code",
   "execution_count": null,
   "metadata": {},
   "outputs": [],
   "source": [
    "# draw the top-most predicted label on the image along with the\n",
    "# confidence score\n",
    "text = \"{}: {:.2f}%\".format(predictions[0][1],predictions[0][2] * 100)\n",
    "cv2.putText(output, text, (3, 20), cv2.FONT_HERSHEY_SIMPLEX, 0.8,\n",
    "\t(0, 255, 0), 2)\n",
    "# show the output image\n",
    "cv2.imshow(\"Output\", output)\n",
    "cv2.waitKey(0)"
   ]
  },
  {
   "cell_type": "code",
   "execution_count": null,
   "metadata": {},
   "outputs": [],
   "source": []
  }
 ],
 "metadata": {
  "kernelspec": {
   "display_name": "Python (p36)",
   "language": "python",
   "name": "p36"
  },
  "language_info": {
   "codemirror_mode": {
    "name": "ipython",
    "version": 3
   },
   "file_extension": ".py",
   "mimetype": "text/x-python",
   "name": "python",
   "nbconvert_exporter": "python",
   "pygments_lexer": "ipython3",
   "version": "3.6.13"
  }
 },
 "nbformat": 4,
 "nbformat_minor": 4
}
